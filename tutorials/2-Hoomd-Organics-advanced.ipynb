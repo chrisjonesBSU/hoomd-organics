{
 "cells": [
  {
   "cell_type": "markdown",
   "metadata": {
    "collapsed": false,
    "jupyter": {
     "outputs_hidden": false
    }
   },
   "source": [
    "# Additional features and functionalities of HOOMD-Organics"
   ]
  },
  {
   "cell_type": "markdown",
   "metadata": {
    "collapsed": false,
    "jupyter": {
     "outputs_hidden": false
    }
   },
   "source": [
    "## Overview:\n",
    "In this tutorial, we present additional features and functionalities within HOOMD-Organics, empowering users to customize their simulations according to their specific requirements. We will cover the following topics for `HOOMD-Organics` modules:\n",
    "\n",
    "1) Molecule\n",
    "\n",
    "- Custom Molecule definition\n",
    "- Polymer and CoPolymer Builders\n",
    "  \n",
    "2) ForceField\n",
    "\n",
    "- Custom ForceFields (XML-based)\n",
    "- HOOMD Forces\n",
    "\n",
    "3) System\n",
    "   \n",
    "- Custom assembly algorithms\n",
    "- Mixture of molecules\n",
    "- Reference values\n",
    "\n",
    "4) Simulation\n",
    "- Simulation methods\n",
    "- Resuming a simulation\n",
    "\n"
   ]
  },
  {
   "cell_type": "markdown",
   "metadata": {},
   "source": [
    "## 1. Molecule"
   ]
  },
  {
   "cell_type": "markdown",
   "metadata": {
    "collapsed": false,
    "jupyter": {
     "outputs_hidden": false
    }
   },
   "source": [
    "### Custom Molecule definition"
   ]
  },
  {
   "cell_type": "markdown",
   "metadata": {
    "collapsed": false,
    "jupyter": {
     "outputs_hidden": false
    }
   },
   "source": [
    "You can define custom molecules in a couple of different ways:\n",
    "\n",
    "1. Define molecules using their [SMILES](https://en.wikipedia.org/wiki/Simplified_molecular-input_line-entry_system) string representation.\n",
    "2. Utilize molecule files in formats such as `.mol` or `.sdf` to specify your custom molecules.\n",
    "3. Create molecules from an [`mBuild`](https://mbuild.mosdef.org/en/stable/) compound or a [`GMSO`](https://gmso.mosdef.org/en/stable/) topology.\n",
    "4. Customize molecules by creating a subclass of the `Molecule` class."
   ]
  },
  {
   "cell_type": "code",
   "execution_count": null,
   "metadata": {},
   "outputs": [],
   "source": [
    "import warnings\n",
    "warnings.filterwarnings('ignore')"
   ]
  },
  {
   "cell_type": "markdown",
   "metadata": {
    "collapsed": false,
    "jupyter": {
     "outputs_hidden": false
    }
   },
   "source": [
    "#### Option 1: Using the SMILES string of the molecule"
   ]
  },
  {
   "cell_type": "code",
   "execution_count": null,
   "metadata": {
    "collapsed": false,
    "jupyter": {
     "outputs_hidden": false
    }
   },
   "outputs": [],
   "source": [
    "from hoomd_organics.base import Molecule\n",
    "\n",
    "benzoic_acid_mol = Molecule(num_mols=20, smiles=\"c1cc(C(O)=O)ccc1\")"
   ]
  },
  {
   "cell_type": "markdown",
   "metadata": {
    "collapsed": false,
    "jupyter": {
     "outputs_hidden": false
    }
   },
   "source": [
    "We can use the `mBuild` visualization function to visualize one of the 20 benzoic acid molecules."
   ]
  },
  {
   "cell_type": "code",
   "execution_count": null,
   "metadata": {
    "collapsed": false,
    "jupyter": {
     "outputs_hidden": false
    }
   },
   "outputs": [],
   "source": [
    "benzoic_acid_mol.molecules[0].visualize()"
   ]
  },
  {
   "cell_type": "markdown",
   "metadata": {
    "collapsed": false,
    "jupyter": {
     "outputs_hidden": false
    }
   },
   "source": [
    "#### Option 2: Initialize molecule from a file"
   ]
  },
  {
   "cell_type": "code",
   "execution_count": null,
   "metadata": {
    "collapsed": false,
    "jupyter": {
     "outputs_hidden": false
    }
   },
   "outputs": [],
   "source": [
    "phenol_mol = Molecule(num_mols=20, file=\"../hoomd_organics/assets/molecule_files/IPH.mol2\")"
   ]
  },
  {
   "cell_type": "code",
   "execution_count": null,
   "metadata": {
    "collapsed": false,
    "jupyter": {
     "outputs_hidden": false
    }
   },
   "outputs": [],
   "source": [
    "phenol_mol.molecules[0].visualize()"
   ]
  },
  {
   "cell_type": "markdown",
   "metadata": {
    "collapsed": false,
    "jupyter": {
     "outputs_hidden": false
    }
   },
   "source": [
    "#### Option 3: Start molecule from an [`mBuild`](https://mbuild.mosdef.org/en/stable/) compound or a [`GMSO`](https://gmso.mosdef.org/en/stable/) topology"
   ]
  },
  {
   "cell_type": "code",
   "execution_count": null,
   "metadata": {
    "collapsed": false,
    "jupyter": {
     "outputs_hidden": false
    }
   },
   "outputs": [],
   "source": [
    "import mbuild as mb\n",
    "\n",
    "mb_compound = mb.load(\"c1ccccc1\", smiles=True)\n",
    "\n",
    "gmso_top = mb_compound.to_gmso()\n",
    "\n",
    "benzene_mol = Molecule(num_mols=20, compound=mb_compound)\n",
    "benzene_mol = Molecule(num_mols=20, compound=gmso_top)\n"
   ]
  },
  {
   "cell_type": "markdown",
   "metadata": {
    "collapsed": false,
    "jupyter": {
     "outputs_hidden": false
    }
   },
   "source": [
    "#### Option 4: Define a subclass of the `Molecule` class"
   ]
  },
  {
   "cell_type": "markdown",
   "metadata": {
    "collapsed": false,
    "jupyter": {
     "outputs_hidden": false
    }
   },
   "source": [
    "Checkout some polymer examples defined in `hoomd_organics/library/polymers.py`."
   ]
  },
  {
   "cell_type": "markdown",
   "metadata": {},
   "source": [
    "### Polymer builder"
   ]
  },
  {
   "cell_type": "code",
   "execution_count": null,
   "metadata": {},
   "outputs": [],
   "source": []
  },
  {
   "cell_type": "markdown",
   "metadata": {},
   "source": [
    "### CoPolymer builder"
   ]
  },
  {
   "cell_type": "code",
   "execution_count": null,
   "metadata": {},
   "outputs": [],
   "source": []
  },
  {
   "cell_type": "markdown",
   "metadata": {},
   "source": [
    "## 2. Forcefields"
   ]
  },
  {
   "cell_type": "markdown",
   "metadata": {},
   "source": [
    "`HOOMD-Organics` offers a range of predefined forcefield classes that can be used to parameterize a system. Checkout  [`hoomd_organics/library/forcefields.py`](https://github.com/cmelab/hoomd-organics/blob/main/hoomd_organics/library/forcefields.py) to see the list of available forcefields.\n",
    "\n",
    "To create a custom forcefield object, you can follow these two approaches:"
   ]
  },
  {
   "cell_type": "markdown",
   "metadata": {
    "collapsed": false,
    "jupyter": {
     "outputs_hidden": false
    }
   },
   "source": [
    "### Custom ForceFields (XML-based)"
   ]
  },
  {
   "cell_type": "markdown",
   "metadata": {
    "collapsed": false,
    "jupyter": {
     "outputs_hidden": false
    }
   },
   "source": [
    "Given the path to the XML file of a desired forcefield, users can employ the `FF_from_file` class available in `hoomd_organics.library` to instantiate a forcefield object."
   ]
  },
  {
   "cell_type": "code",
   "execution_count": null,
   "metadata": {
    "collapsed": false,
    "jupyter": {
     "outputs_hidden": false
    }
   },
   "outputs": [],
   "source": [
    "from hoomd_organics.library import FF_from_file\n",
    "\n",
    "benzene_ff = FF_from_file(\n",
    "    xml_file=\"../hoomd_organics/assets/forcefields/benzene_opls.xml\")"
   ]
  },
  {
   "cell_type": "markdown",
   "metadata": {
    "collapsed": false,
    "jupyter": {
     "outputs_hidden": false
    }
   },
   "source": [
    "Check out [`hoomd_organics/library/forcefields.py`](https://github.com/cmelab/hoomd-organics/blob/main/hoomd_organics/library/forcefields.py) for more some examples of defining a forcefield using a subclass of `foyer.Forcefield` for specific molecules."
   ]
  },
  {
   "cell_type": "markdown",
   "metadata": {},
   "source": [
    "### HOOMD Forces"
   ]
  },
  {
   "cell_type": "markdown",
   "metadata": {
    "collapsed": false,
    "jupyter": {
     "outputs_hidden": false
    }
   },
   "source": [
    "Alternatively, users have the flexibility to define their own custom class that handles forces. This can be achieved by implementing a class or method that generates a list of `hoomd.md.force` objects, tailored to specific simulation requirements.\n",
    "Check out the `BeadSpring` class in  [`hoomd_organics/library/forcefields.py`](https://github.com/cmelab/hoomd-organics/blob/main/hoomd_organics/library/forcefields.py) for an example of defining HOOMD force objects for a system of coarse-grained beads."
   ]
  },
  {
   "cell_type": "markdown",
   "metadata": {},
   "source": [
    "## 3. System"
   ]
  },
  {
   "cell_type": "markdown",
   "metadata": {
    "collapsed": false,
    "jupyter": {
     "outputs_hidden": false
    }
   },
   "source": [
    "### Custom system assembly algorithms"
   ]
  },
  {
   "cell_type": "markdown",
   "metadata": {
    "collapsed": false,
    "jupyter": {
     "outputs_hidden": false
    }
   },
   "source": [
    "The `System` class provides two distinct methods for filling the simulation box: `Pack` and `Lattice`.\n",
    "\n",
    "`Pack` fills the simulation box with molecules in a way that closely packs them, typically in a disordered, random fashion.\n",
    "\n",
    "`Lattice`, on the other hand, fills the simulation box using a well-defined lattice or grid structure."
   ]
  },
  {
   "cell_type": "markdown",
   "metadata": {
    "collapsed": false,
    "jupyter": {
     "outputs_hidden": false
    }
   },
   "source": [
    "Both `Pack` and `Lattice` classes are subclasses of the `System` class."
   ]
  },
  {
   "cell_type": "code",
   "execution_count": null,
   "metadata": {
    "collapsed": false,
    "jupyter": {
     "outputs_hidden": false
    }
   },
   "outputs": [],
   "source": [
    "# example of defining a system using the Lattice method\n",
    "from hoomd_organics.base import Lattice\n",
    "from hoomd_organics.library import PPS, OPLS_AA_PPS\n",
    "\n",
    "pps = PPS(num_mols=32, lengths=5)\n",
    "\n",
    "lattice = Lattice(molecules=pps, force_field=OPLS_AA_PPS(),\n",
    "                  density=0.8,\n",
    "                  r_cut=2.5,\n",
    "                  x=1,\n",
    "                  y=1,\n",
    "                  n=4)"
   ]
  },
  {
   "cell_type": "code",
   "execution_count": null,
   "metadata": {
    "collapsed": false,
    "jupyter": {
     "outputs_hidden": false
    }
   },
   "outputs": [],
   "source": [
    "lattice.system.visualize()"
   ]
  },
  {
   "cell_type": "markdown",
   "metadata": {
    "collapsed": false,
    "jupyter": {
     "outputs_hidden": false
    }
   },
   "source": [
    "Note: the base `System` class is designed as an abstract class, meaning it's not intended to be directly instantiated.\n",
    "\n",
    "If you desire to customize a molecule assembly algorithm that suits your specific requirements, you should create a subclass of the `System` class and override the abstract method `_build_system`. This method is responsible for organizing molecules from the `Molecule` class into a simulation box and returning the resulting mbuild compound. \n",
    "\n",
    "Check out `Pack` and `Lattice` in `hoomd_organics/base/systems.py` for examples of how to define custom assembly algorithms."
   ]
  },
  {
   "cell_type": "markdown",
   "metadata": {
    "collapsed": false,
    "jupyter": {
     "outputs_hidden": false
    }
   },
   "source": [
    "### Mixture of molecules"
   ]
  },
  {
   "cell_type": "markdown",
   "metadata": {
    "collapsed": false,
    "jupyter": {
     "outputs_hidden": false
    }
   },
   "source": [
    "`HOOMD-Organics` allows users to construct a system consisting of a mixture of molecule types, each potentially utilizing different force fields. If all the molecule types within the system share the same forcefield, then you only need to pass the forcefield once."
   ]
  },
  {
   "cell_type": "code",
   "execution_count": null,
   "metadata": {
    "collapsed": false,
    "jupyter": {
     "outputs_hidden": false
    }
   },
   "outputs": [],
   "source": [
    "from hoomd_organics.base import Pack\n",
    "from hoomd_organics.library import OPLS_AA_DIMETHYLETHER\n",
    "dimethylether_mol = Molecule(num_mols=20, smiles=\"COC\")\n",
    "pps_mol = PPS(num_mols=10, lengths=4)\n",
    "multi_type_system = Pack(\n",
    "    molecules=[dimethylether_mol, pps_mol],\n",
    "    density=0.8,\n",
    "    r_cut=2.5,\n",
    "    force_field=[OPLS_AA_DIMETHYLETHER(), OPLS_AA_PPS()],\n",
    "    auto_scale=True,\n",
    ")"
   ]
  },
  {
   "cell_type": "code",
   "execution_count": null,
   "metadata": {
    "collapsed": false,
    "jupyter": {
     "outputs_hidden": false
    }
   },
   "outputs": [],
   "source": [
    "multi_type_system.system.visualize()"
   ]
  },
  {
   "cell_type": "markdown",
   "metadata": {},
   "source": [
    "### AutoScale & Reference Values"
   ]
  },
  {
   "cell_type": "markdown",
   "metadata": {},
   "source": [
    "As mentioned in the previous tutorial, when the `auto_scale` parameter is set to `True` during system building, the parameters of the forcefields will be scaled automatically to range between 0 to 1. The scaling factor for these conversions can be retrieved from `system.reference_values`, which includes scaling factors for energy, length and mass values."
   ]
  },
  {
   "cell_type": "markdown",
   "metadata": {},
   "source": [
    "TODO: (need to talk about units and how to set units)"
   ]
  },
  {
   "cell_type": "markdown",
   "metadata": {},
   "source": [
    "## 4. Simulation"
   ]
  },
  {
   "cell_type": "markdown",
   "metadata": {},
   "source": [
    "### Simulation methods"
   ]
  },
  {
   "cell_type": "markdown",
   "metadata": {},
   "source": [
    "Simulation methods/functionalities available in `HOOMD-Organics` `Simulation` class:\n",
    "\n",
    "\n",
    "- `adjust_epsilon`: scales or shifts all epsilon values of LJ forces by a specified value. \n",
    "- `adjust_sigma`: scales or shifts all sigma values of LJ forces by a specified value.\n",
    "- `add_walls`, `remove_walls`: TODO\n",
    "- `run_update_volume`: Shrinks or expands the box to a given length.\n",
    "- `run_langevin`: runs simulation with Langevin dynamics.\n",
    "- `run_NPT`: runs simulation with the NPT ensemble.\n",
    "- `run_NVT`: runs simulation with the NVT ensemble.\n",
    "- `run_NVE`: runs simulation with the NVE ensemble.\n",
    "- `run_displacement_cap`: runs NVE simulation with a cap on the maximum distance travelled by particles.\n",
    "- `pickle_forcefield`: create a pickle file to save the force objects. This can be used to recreate a simulation class without the need to initiate `Molecule` and `System` classes.\n",
    "- `save_restart_gsd`: saves a snapshot of the current state of the system. This can be used to recreate a simulation without the need to initiate `Molecule` and `System` classes."
   ]
  },
  {
   "cell_type": "markdown",
   "metadata": {},
   "source": [
    "### Resume a simulation"
   ]
  },
  {
   "cell_type": "markdown",
   "metadata": {},
   "source": [
    "Resuming a simulation in `HOOMD-Organics` is easy, without the need to recreate the `Molecule` and `Simulation` classes. All that's required are two key components: a gsd snapshot of the system and a list of HOOMD force objects.\n",
    "\n",
    "Users can save the snapshot of a simulation's latest state by invoking the `simulation.save_restart_gsd()` method. By default, this snapshot is saved in a file named `restart.gsd`. However, users have the flexibility to specify a different file path by configuring `file_path` parameter.\n",
    "\n",
    "Additionaly, the list of HOOMD force objects can be preserved in a pickled format using `simulation.pickle_forcefield()` method. Pickled list is saved in `forcefield.pickle` by default. The file path can be configured with `file_path` parameter.\n",
    "Please note that the user will need to pass the unpickled list to simulation class in order to recreate the class."
   ]
  },
  {
   "cell_type": "code",
   "execution_count": null,
   "metadata": {},
   "outputs": [],
   "source": [
    "from hoomd_organics.base import Molecule, Pack, Simulation\n",
    "from hoomd_organics.library import OPLS_AA\n",
    "\n",
    "molecule = Molecule(num_mols=30, smiles=\"c1ccccc1\")\n",
    "\n",
    "system = Pack(molecules=molecule, force_field=OPLS_AA(), density=0.5, r_cut=2.5, auto_scale=True)\n",
    "\n",
    "sim = Simulation(initial_state=system.hoomd_snapshot, forcefield=system.hoomd_forcefield)\n",
    "\n",
    "sim.run_NVE(n_steps=1e3)"
   ]
  },
  {
   "cell_type": "code",
   "execution_count": null,
   "metadata": {},
   "outputs": [],
   "source": [
    "sim.save_restart_gsd(\"snapshot.gsd\")\n",
    "\n",
    "sim.pickle_forcefield(\"hoomd_forces.pickle\")"
   ]
  },
  {
   "cell_type": "code",
   "execution_count": null,
   "metadata": {},
   "outputs": [],
   "source": [
    "import pickle\n",
    "\n",
    "f = open(\"hoomd_forces.pickle\", \"rb\")\n",
    "hoomd_ff = pickle.load(f)"
   ]
  },
  {
   "cell_type": "code",
   "execution_count": null,
   "metadata": {},
   "outputs": [],
   "source": [
    "resume_sim = Simulation(initial_state=\"snapshot.gsd\", forcefield=hoomd_ff)"
   ]
  }
 ],
 "metadata": {
  "kernelspec": {
   "display_name": "Python 3 (ipykernel)",
   "language": "python",
   "name": "python3"
  },
  "language_info": {
   "codemirror_mode": {
    "name": "ipython",
    "version": 3
   },
   "file_extension": ".py",
   "mimetype": "text/x-python",
   "name": "python",
   "nbconvert_exporter": "python",
   "pygments_lexer": "ipython3",
   "version": "3.9.18"
  }
 },
 "nbformat": 4,
 "nbformat_minor": 4
}
